{
 "cells": [
  {
   "cell_type": "markdown",
   "id": "bd580643-3243-4ecb-ba5d-03bdb9a8d0ab",
   "metadata": {},
   "source": [
    "## LM"
   ]
  },
  {
   "cell_type": "markdown",
   "id": "f60b21d4-e05a-4d17-8593-8a6b93c956d8",
   "metadata": {},
   "source": [
    "#### Training"
   ]
  },
  {
   "cell_type": "code",
   "execution_count": null,
   "id": "cf1e239e-3567-4037-bf5d-ea4b7682a0a4",
   "metadata": {},
   "outputs": [],
   "source": [
    "import tensorflow as tf\n",
    "import time\n",
    "import sys\n",
    "sys.path.append(\"../src\")\n",
    "from tf_levenberg_marquardt import levenberg_marquardt as lm"
   ]
  },
  {
   "cell_type": "code",
   "execution_count": null,
   "id": "1aefdcab-9cc2-49da-b497-04c9e3e85d37",
   "metadata": {},
   "outputs": [],
   "source": [
    "normalizer = tf.keras.layers.Normalization()\n",
    "normalizer.adapt(X_train)\n",
    "X_train_norm = normalizer(X_train)"
   ]
  },
  {
   "cell_type": "code",
   "execution_count": null,
   "id": "6736bb4e-1f5f-4eb4-9bee-1e75e4365c0a",
   "metadata": {},
   "outputs": [],
   "source": [
    "input_size = 8184\n",
    "batch_size = 1000\n",
    "\n",
    "x_train_norm = tf.cast(X_train_norm, tf.float32)\n",
    "y_train = tf.expand_dims(tf.cast(Y_train, tf.float32), axis=-1)\n",
    "\n",
    "train_dataset = tf.data.Dataset.from_tensor_slices((x_train_norm, y_train))\n",
    "train_dataset = train_dataset.shuffle(input_size)\n",
    "train_dataset = train_dataset.batch(batch_size).cache()\n",
    "train_dataset = train_dataset.prefetch(tf.data.experimental.AUTOTUNE)"
   ]
  },
  {
   "cell_type": "code",
   "execution_count": null,
   "id": "36dac9c5-1f30-4717-ae60-bfb24902a918",
   "metadata": {},
   "outputs": [],
   "source": [
    "model = tf.keras.Sequential([\n",
    "    tf.keras.layers.Dense(10, activation='relu', input_shape=(5,)),\n",
    "    tf.keras.layers.Dense(1)\n",
    "])\n",
    "\n",
    "model.summary()\n",
    "\n",
    "model_wrapper = lm.ModelWrapper(\n",
    "    tf.keras.models.clone_model(model))\n",
    "\n",
    "model_wrapper.compile(\n",
    "    optimizer=tf.keras.optimizers.SGD(learning_rate=10),\n",
    "    loss=lm.MeanSquaredError())"
   ]
  },
  {
   "cell_type": "code",
   "execution_count": null,
   "id": "f1e12b79-86b1-44ba-969e-2a325baf8505",
   "metadata": {},
   "outputs": [],
   "source": [
    "print(\"Train using Levenberg-Marquardt\")\n",
    "t2_start = time.perf_counter()\n",
    "model_wrapper.fit(generator, epochs=100)\n",
    "t2_stop = time.perf_counter()\n",
    "print(\"Elapsed time: \", t2_stop - t2_start)"
   ]
  },
  {
   "cell_type": "code",
   "execution_count": null,
   "id": "45e2639b-6272-494e-8120-794b53a320ab",
   "metadata": {},
   "outputs": [],
   "source": [
    "len(y_train.numpy().reshape(1, -1)[0]), len(model_wrapper.predict(x_train_norm).reshape(1, -1)[0])"
   ]
  },
  {
   "cell_type": "code",
   "execution_count": null,
   "id": "2abf232f-9f30-4cef-95b2-6d53e8aaa4d0",
   "metadata": {},
   "outputs": [],
   "source": [
    "print(\"Plot results\")\n",
    "plot_size = (30, 20)\n",
    "plt.scatter(model_wrapper.predict(x_train_norm).reshape(1, -1)[0], y_train.numpy().reshape(1, -1)[0])\n",
    "plt.show()"
   ]
  },
  {
   "cell_type": "code",
   "execution_count": null,
   "id": "333f1ef0-b5cc-41de-b1f7-f7d8bbf33449",
   "metadata": {},
   "outputs": [],
   "source": [
    "model_wrapper.predict(x_train_norm)"
   ]
  },
  {
   "cell_type": "markdown",
   "id": "978be2c4-1df5-4cf8-a921-fe81ef2b5807",
   "metadata": {},
   "source": [
    "#### Validation"
   ]
  },
  {
   "cell_type": "code",
   "execution_count": null,
   "id": "f5f57f79-8f57-468c-a2f2-7faf62a7fdf9",
   "metadata": {},
   "outputs": [],
   "source": [
    "x_test_norm = tf.cast(normalizer(X_test), tf.float32)\n",
    "y_test = tf.expand_dims(tf.cast(Y_test, tf.float32), axis=-1)\n",
    "y_test_predict = model_wrapper.predict(x_test_norm)"
   ]
  },
  {
   "cell_type": "code",
   "execution_count": null,
   "id": "f52671b8-f871-4883-ac44-2a634ac9965a",
   "metadata": {},
   "outputs": [],
   "source": [
    "print(\"Plot results\")\n",
    "plot_size = (30, 20)\n",
    "plt.scatter(y_test_predict.reshape(1, -1)[0], y_test.numpy().reshape(1, -1)[0])\n",
    "plt.show()"
   ]
  },
  {
   "cell_type": "code",
   "execution_count": null,
   "id": "6ef04baa-d1a7-404d-ae19-cdab4182a074",
   "metadata": {},
   "outputs": [],
   "source": [
    "df_validation = df_train_dropna[index_of_x_days_ago_imputed:][features]\n",
    "df_validation['predicted_KW'] = y_test_predict\n",
    "df_validation['KW'] = y_test.numpy()\n",
    "df_validation['residuals'] = df_validation['KW'] - df_validation['predicted_KW']"
   ]
  },
  {
   "cell_type": "code",
   "execution_count": null,
   "id": "d91fcc80-a175-4615-a397-fe651a917d28",
   "metadata": {},
   "outputs": [],
   "source": [
    "plt.figure(figsize=(20,8))\n",
    "plt.plot(df_validation['KW'], label=\"Test\")\n",
    "plt.plot(df_validation['predicted_KW'], label=\"Prediction\")\n",
    "plt.plot(df_validation['residuals'], label=\"residuals\")\n",
    "plt.legend(loc = 'best')"
   ]
  },
  {
   "cell_type": "code",
   "execution_count": null,
   "id": "915fc463-505a-4b9c-944d-c37d78d2530e",
   "metadata": {},
   "outputs": [],
   "source": [
    "plt.figure(figsize=(20,8))\n",
    "plt.plot(df_validation['KW'], label=\"Test\")\n",
    "plt.plot(df_validation['predicted_KW'], label=\"Prediction\")\n",
    "plt.plot(df_validation['residuals'], label=\"residuals\")\n",
    "plt.legend(loc = 'best')"
   ]
  },
  {
   "cell_type": "markdown",
   "id": "c60d1381-6300-4cc9-9e5e-653bfcf8bd4a",
   "metadata": {},
   "source": [
    "#### Experiments\n",
    "\n",
    "[Keras Time Series Forecasting](https://www.tensorflow.org/tutorials/structured_data/time_series)"
   ]
  },
  {
   "cell_type": "code",
   "execution_count": null,
   "id": "6f5eb1ba-74c7-41d1-b17d-1d8e539896d5",
   "metadata": {},
   "outputs": [],
   "source": [
    "X_train.shape, X_test.shape, Y_train.shape, Y_test.shape, date_x_days_ago, df_train[:index_of_x_days_ago].shape"
   ]
  },
  {
   "cell_type": "code",
   "execution_count": null,
   "id": "801a0d5e-15db-469c-960d-c5e192aa7df4",
   "metadata": {},
   "outputs": [],
   "source": [
    "X_train_rnn = df_train_dropna[:index_of_x_days_ago_imputed]['month_sin', 'month_cos', 'TEMP_AIR'].to_numpy()\n",
    "Y_train_rnn = df_train_dropna[:index_of_x_days_ago_imputed]['KW'].values\n",
    "X_test_rnn = df_train_dropna[index_of_x_days_ago_imputed:][features].to_numpy()\n",
    "Y_test_rnn = df_train_dropna[index_of_x_days_ago_imputed:]['KW'].values"
   ]
  },
  {
   "cell_type": "code",
   "execution_count": null,
   "id": "2dc9cab9-ccda-4f95-a166-0147d0b8636d",
   "metadata": {},
   "outputs": [],
   "source": [
    "X_train = df_train_dropna[:index_of_x_days_ago_imputed][features].to_numpy()\n",
    "Y_train = df_train_dropna[:index_of_x_days_ago_imputed]['KW'].values\n",
    "X_test = df_train_dropna[index_of_x_days_ago_imputed:][features].to_numpy()\n",
    "Y_test = df_train_dropna[index_of_x_days_ago_imputed:]['KW'].values"
   ]
  },
  {
   "cell_type": "code",
   "execution_count": null,
   "id": "186c7254-858f-48e1-b437-7b083d7ec1f4",
   "metadata": {},
   "outputs": [],
   "source": [
    "index_of_x_days_ago_imputed = df_train_dropna.index.get_loc(date_x_days_ago, method='nearest') # index of x days ago from the last date we have in the dataset\n",
    "date_x_days_ago, index_of_x_days_ago_imputed"
   ]
  },
  {
   "cell_type": "code",
   "execution_count": null,
   "id": "de61f435-ff57-4306-a2cd-df69b45f3fdf",
   "metadata": {},
   "outputs": [],
   "source": [
    "features = ['KW_x_days_ago_same_hour', 'KW_x_days_ago_1_hour_before', 'TEMP_AIR_x_days_ago', 'month_sin', 'month_cos']"
   ]
  },
  {
   "cell_type": "code",
   "execution_count": null,
   "id": "cc4a869e-1dda-4612-ba65-241180899d21",
   "metadata": {},
   "outputs": [],
   "source": [
    "date_x_days_ago = max(df_freq.index.date) - dt.timedelta(days = predict_days) # x is the number of days in future that we want to predict\n",
    "index_of_x_days_ago = df_freq.index.get_loc(date_x_days_ago, method='nearest') # index of x days ago from the last date we have in the dataset\n",
    "\n",
    "date_x_days_ago, index_of_x_days_ago"
   ]
  },
  {
   "cell_type": "code",
   "execution_count": null,
   "id": "5731c458-90d6-426e-95ea-3a2cdc0b12d2",
   "metadata": {},
   "outputs": [],
   "source": [
    "# 5 (predict days forward) days ago\n",
    "df_train.loc[:, ('KW_x_days_ago_same_hour')] = df_train['KW'].shift(periods=predict_days*data_frequency_num_points)\n",
    "df_train.loc[:, ('KW_x_days_ago_1_hour_before')] = df_train['KW'].shift(periods=predict_days*data_frequency_num_points-1)\n",
    "df_train.loc[:, ('TEMP_AIR_x_days_ago')] = df_train['TEMP_AIR'].shift(periods=predict_days*data_frequency_num_points)\n",
    "# display data for x days from the first datapoint we have\n",
    "# thats when we have the first row with all past data points \n",
    "df_train[predict_days*data_frequency_num_points: predict_days*data_frequency_num_points+5]"
   ]
  },
  {
   "cell_type": "code",
   "execution_count": null,
   "id": "2d961016-211d-4169-94b2-b7e34002fa19",
   "metadata": {},
   "outputs": [],
   "source": [
    "# encode cyclic features (month and year) \n",
    "def cyclic_transformation(column):\n",
    "    import math\n",
    "    max_value = column.max()\n",
    "    sin_values = [math.sin((2*math.pi*x)/max_value) for x in list(column)]\n",
    "    cos_values = [math.cos((2*math.pi*x)/max_value) for x in list(column)]\n",
    "    return sin_values, cos_values"
   ]
  },
  {
   "cell_type": "code",
   "execution_count": null,
   "id": "f6d439c9-6029-4343-bbd6-4e898f2608a0",
   "metadata": {},
   "outputs": [],
   "source": [
    "df_train['month'] = df_train.index.month\n",
    "df_train['month_x_days_ago'] = df_train['month'].shift(periods=predict_days*data_frequency_num_points)\n",
    "df_train.tail()"
   ]
  },
  {
   "cell_type": "code",
   "execution_count": null,
   "id": "2fd547fe-9641-4ec5-a4cb-21243c2362aa",
   "metadata": {},
   "outputs": [],
   "source": [
    "# encode cyclic features (week, month, hour?)\n",
    "sin_values, cos_values = cyclic_transformation(df_train['month_x_days_ago'])\n",
    "df_train['month_x_days_ago_sin'] = sin_values\n",
    "df_train['month_x_days_ago_cos'] = cos_values"
   ]
  },
  {
   "cell_type": "code",
   "execution_count": null,
   "id": "70acc778-7fbb-4c69-a9b6-cbe6f479dde5",
   "metadata": {},
   "outputs": [],
   "source": [
    "# encode cyclic features (week, month, hour?)\n",
    "sin_values, cos_values = cyclic_transformation(df_train.index.month)\n",
    "df_train['month_sin'] = sin_values\n",
    "df_train['month_cos'] = cos_values"
   ]
  },
  {
   "cell_type": "code",
   "execution_count": null,
   "id": "984f6b22-8903-4da0-b3ec-1964bc6bcf63",
   "metadata": {},
   "outputs": [],
   "source": [
    "# Test cell to experiment\n",
    "# from the plot it appears that January is closer to February than February is to March: it's the same distance waaaaaa\n",
    "\n",
    "def cyclic_transformation_test(column):\n",
    "    import math\n",
    "    max_value = max(column)\n",
    "    sin_values = [math.sin((2*math.pi*x)/max_value) for x in list(column)]\n",
    "    cos_values = [math.cos((2*math.pi*x)/max_value) for x in list(column)]\n",
    "    return sin_values, cos_values\n",
    "month_values = [1, 2, 3, 4, 5, 6, 7, 8, 9, 10, 11, 12]\n",
    "sin, cos = cyclic_transformation_test(month_values)\n",
    "test = pd.DataFrame({'month': month_values, 'sin': sin, 'cos': cos})\n",
    "\n",
    "test['distance'] = np.sqrt(np.power(test['sin'].shift()-test['sin'],2)+ np.power(test['cos'].shift()-test['cos'],2))\n",
    "\n",
    "display(test)\n",
    "\n",
    "plot_size = (30, 10)\n",
    "fig, ax = plt.subplots(figsize=plot_size)\n",
    "plt.title(\"Month sin and cos\")\n",
    "sns.scatterplot(x='sin', y='cos', data=test)"
   ]
  },
  {
   "cell_type": "code",
   "execution_count": null,
   "id": "5b2e8130-e364-41bb-9006-4d29c163f68d",
   "metadata": {},
   "outputs": [],
   "source": [
    "import os\n",
    "import datetime\n",
    "\n",
    "import IPython\n",
    "import IPython.display\n",
    "import matplotlib as mpl\n",
    "import matplotlib.pyplot as plt\n",
    "import numpy as np\n",
    "import pandas as pd\n",
    "import seaborn as sns\n",
    "import tensorflow as tf\n",
    "\n",
    "mpl.rcParams['figure.figsize'] = (8, 6)\n",
    "mpl.rcParams['axes.grid'] = False"
   ]
  },
  {
   "cell_type": "code",
   "execution_count": null,
   "id": "9e5b227a-234e-44a5-af5e-4fedbcd0d499",
   "metadata": {},
   "outputs": [],
   "source": [
    "zip_path = tf.keras.utils.get_file(\n",
    "    origin='https://storage.googleapis.com/tensorflow/tf-keras-datasets/jena_climate_2009_2016.csv.zip',\n",
    "    fname='jena_climate_2009_2016.csv.zip',\n",
    "    extract=True)\n",
    "csv_path, _ = os.path.splitext(zip_path)"
   ]
  },
  {
   "cell_type": "code",
   "execution_count": null,
   "id": "6a52c442-3495-411a-af8b-e2121fa37f5f",
   "metadata": {},
   "outputs": [],
   "source": [
    "df = pd.read_csv(csv_path)\n",
    "# Slice [start:stop:step], starting from index 5 take every 6th record.\n",
    "df = df[5::6]\n",
    "\n",
    "date_time = pd.to_datetime(df.pop('Date Time'), format='%d.%m.%Y %H:%M:%S')"
   ]
  },
  {
   "cell_type": "code",
   "execution_count": null,
   "id": "30abfe57-1999-40cd-8e26-85e2e365c229",
   "metadata": {},
   "outputs": [],
   "source": [
    "plot_cols = ['T (degC)', 'p (mbar)', 'rho (g/m**3)']\n",
    "plot_features = df[plot_cols]\n",
    "plot_features.index = date_time\n",
    "_ = plot_features.plot(subplots=True)\n",
    "\n",
    "plot_features = df[plot_cols][:480]\n",
    "plot_features.index = date_time[:480]\n",
    "_ = plot_features.plot(subplots=True)"
   ]
  }
 ],
 "metadata": {
  "kernelspec": {
   "display_name": "Python 3 (ipykernel)",
   "language": "python",
   "name": "python3"
  },
  "language_info": {
   "codemirror_mode": {
    "name": "ipython",
    "version": 3
   },
   "file_extension": ".py",
   "mimetype": "text/x-python",
   "name": "python",
   "nbconvert_exporter": "python",
   "pygments_lexer": "ipython3",
   "version": "3.7.9"
  }
 },
 "nbformat": 4,
 "nbformat_minor": 5
}
