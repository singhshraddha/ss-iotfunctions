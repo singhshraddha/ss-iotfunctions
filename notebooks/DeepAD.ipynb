{
 "cells": [
  {
   "cell_type": "markdown",
   "metadata": {},
   "source": [
    "### DeepAD\n",
    "https://github.ibm.com/innovation-exchange/DeepAD/tree/master <br>\n",
    "https://github.ibm.com/wiotp/Maximo-Asset-Monitor/issues/1672 <br>\n",
    "\n",
    "**source** Armstrong-pump_power_anomaly <br>\n",
    "**prediction server** python3 server.py False Armstrong-pump_power_anomaly /Users/shraddha.singh@ibm.com/watson_iot/deepad/DeepAD/anomaly_detection/anomaly-flask/prediction 500 <br>"
   ]
  },
  {
   "cell_type": "code",
   "execution_count": 39,
   "metadata": {},
   "outputs": [
    {
     "name": "stdout",
     "output_type": "stream",
     "text": [
      "The autoreload extension is already loaded. To reload it, use:\n",
      "  %reload_ext autoreload\n"
     ]
    }
   ],
   "source": [
    "import os\n",
    "\n",
    "import pandas as pd\n",
    "import numpy as np\n",
    "import datetime as dt\n",
    "import seaborn as sns\n",
    "import matplotlib.pyplot as plt\n",
    "\n",
    "%load_ext autoreload\n",
    "%autoreload 2\n",
    "%matplotlib inline"
   ]
  },
  {
   "cell_type": "markdown",
   "metadata": {},
   "source": [
    "**data**"
   ]
  },
  {
   "cell_type": "code",
   "execution_count": 168,
   "metadata": {},
   "outputs": [],
   "source": [
    "# filepath = '/Users/shraddha.singh@ibm.com/watson_iot/data/1096-first-50-hours.csv' #armstrong\n",
    "# filepath = '/Users/shraddha.singh@ibm.com/watson_iot/data/IOT_NUMBERTAG.csv' #numbertag\n",
    "\n",
    "# filepath = '/Users/shraddha.singh@ibm.com/watson_iot/data/anomaly/temperature_spike_anomaly.csv'; kwargs = {'header':None, 'parse_dates':[0]} # temperature\n",
    "# filepath = '/Users/shraddha.singh@ibm.com/watson_iot/data/anomaly/armstark_strong_vibrations_anomaly.csv'; kwargs = {'header':None, 'parse_dates':[0]} # armstark (bad)\n",
    "# filepath = '/Users/shraddha.singh@ibm.com/watson_iot/data/anomaly/armstark_no_anomaly.csv'; kwargs = {'header':None, 'parse_dates':[0]} # armstark (good)\n",
    "# filepath = '/Users/shraddha.singh@ibm.com/watson_iot/data/anomaly/cakebread36.csv'; kwargs = {'header':None, 'parse_dates':[0]} # cakebread\n",
    "filepath = '/Users/shraddha.singh@ibm.com/watson_iot/data/anomaly/generated-spike-anomaly.csv'; kwargs = {'header':None, 'parse_dates':[0]} # generated-spike-anomaly.csv"
   ]
  },
  {
   "cell_type": "code",
   "execution_count": 169,
   "metadata": {},
   "outputs": [],
   "source": [
    "df = pd.read_csv(filepath, index_col=False, **kwargs)"
   ]
  },
  {
   "cell_type": "code",
   "execution_count": 170,
   "metadata": {},
   "outputs": [
    {
     "data": {
      "text/html": [
       "<div>\n",
       "<style scoped>\n",
       "    .dataframe tbody tr th:only-of-type {\n",
       "        vertical-align: middle;\n",
       "    }\n",
       "\n",
       "    .dataframe tbody tr th {\n",
       "        vertical-align: top;\n",
       "    }\n",
       "\n",
       "    .dataframe thead th {\n",
       "        text-align: right;\n",
       "    }\n",
       "</style>\n",
       "<table border=\"1\" class=\"dataframe\">\n",
       "  <thead>\n",
       "    <tr style=\"text-align: right;\">\n",
       "      <th></th>\n",
       "      <th>0</th>\n",
       "      <th>1</th>\n",
       "    </tr>\n",
       "  </thead>\n",
       "  <tbody>\n",
       "    <tr>\n",
       "      <th>0</th>\n",
       "      <td>2019-09-26 18:08:11.262975</td>\n",
       "      <td>79.333185</td>\n",
       "    </tr>\n",
       "    <tr>\n",
       "      <th>1</th>\n",
       "      <td>2019-09-26 18:18:06.486895</td>\n",
       "      <td>77.907810</td>\n",
       "    </tr>\n",
       "    <tr>\n",
       "      <th>2</th>\n",
       "      <td>2019-09-26 18:23:09.614009</td>\n",
       "      <td>75.704007</td>\n",
       "    </tr>\n",
       "    <tr>\n",
       "      <th>3</th>\n",
       "      <td>2019-09-26 18:48:06.433222</td>\n",
       "      <td>72.743794</td>\n",
       "    </tr>\n",
       "    <tr>\n",
       "      <th>4</th>\n",
       "      <td>2019-09-26 18:53:14.068107</td>\n",
       "      <td>69.056749</td>\n",
       "    </tr>\n",
       "  </tbody>\n",
       "</table>\n",
       "</div>"
      ],
      "text/plain": [
       "                           0          1\n",
       "0 2019-09-26 18:08:11.262975  79.333185\n",
       "1 2019-09-26 18:18:06.486895  77.907810\n",
       "2 2019-09-26 18:23:09.614009  75.704007\n",
       "3 2019-09-26 18:48:06.433222  72.743794\n",
       "4 2019-09-26 18:53:14.068107  69.056749"
      ]
     },
     "execution_count": 170,
     "metadata": {},
     "output_type": "execute_result"
    }
   ],
   "source": [
    "df.head()"
   ]
  },
  {
   "cell_type": "code",
   "execution_count": null,
   "metadata": {},
   "outputs": [],
   "source": [
    "#for numbertag\n",
    "timestampcolumn = 'RCV_TIMESTAMP_UTC'\n",
    "\n",
    "#filter to only 1 entity\n",
    "# entity = 'e6286081-c9af-560b-b051-6a5825911161' #device 2\n",
    "entity = '49c573ca-3eb1-5e40-97c0-838053004567' #device 7\n",
    "df = df[df['DEVICEID'] == entity]\n",
    "\n",
    "#make timestamp column unix\n",
    "df['timestamp'] = pd.to_datetime(df[timestampcolumn], format='%Y-%m-%d-%H.%M.%S.%f')\n",
    "df.timestamp = df.timestamp.astype(np.int64)"
   ]
  },
  {
   "cell_type": "code",
   "execution_count": null,
   "metadata": {},
   "outputs": [],
   "source": [
    "#for armstrong\n",
    "df['TIMESTAMP'] = df['TIMESTAMP'] - 2e9"
   ]
  },
  {
   "cell_type": "code",
   "execution_count": 175,
   "metadata": {},
   "outputs": [],
   "source": [
    "# for armstark, temperature, cakebread : convert to unix time\n",
    "df[0] = df[0].astype(np.int64) / 10**9 "
   ]
  },
  {
   "cell_type": "code",
   "execution_count": 148,
   "metadata": {},
   "outputs": [
    {
     "data": {
      "text/plain": [
       "0    float64\n",
       "1    float64\n",
       "dtype: object"
      ]
     },
     "execution_count": 148,
     "metadata": {},
     "output_type": "execute_result"
    }
   ],
   "source": [
    "df.dtypes #DeepAD reads input as str and convetrs to float"
   ]
  },
  {
   "cell_type": "code",
   "execution_count": 174,
   "metadata": {},
   "outputs": [
    {
     "data": {
      "text/html": [
       "<div>\n",
       "<style scoped>\n",
       "    .dataframe tbody tr th:only-of-type {\n",
       "        vertical-align: middle;\n",
       "    }\n",
       "\n",
       "    .dataframe tbody tr th {\n",
       "        vertical-align: top;\n",
       "    }\n",
       "\n",
       "    .dataframe thead th {\n",
       "        text-align: right;\n",
       "    }\n",
       "</style>\n",
       "<table border=\"1\" class=\"dataframe\">\n",
       "  <thead>\n",
       "    <tr style=\"text-align: right;\">\n",
       "      <th></th>\n",
       "      <th>1</th>\n",
       "    </tr>\n",
       "  </thead>\n",
       "  <tbody>\n",
       "    <tr>\n",
       "      <th>count</th>\n",
       "      <td>792.000000</td>\n",
       "    </tr>\n",
       "    <tr>\n",
       "      <th>mean</th>\n",
       "      <td>135.987836</td>\n",
       "    </tr>\n",
       "    <tr>\n",
       "      <th>std</th>\n",
       "      <td>795.161049</td>\n",
       "    </tr>\n",
       "    <tr>\n",
       "      <th>min</th>\n",
       "      <td>7.986673</td>\n",
       "    </tr>\n",
       "    <tr>\n",
       "      <th>25%</th>\n",
       "      <td>40.518593</td>\n",
       "    </tr>\n",
       "    <tr>\n",
       "      <th>50%</th>\n",
       "      <td>59.656417</td>\n",
       "    </tr>\n",
       "    <tr>\n",
       "      <th>75%</th>\n",
       "      <td>74.563127</td>\n",
       "    </tr>\n",
       "    <tr>\n",
       "      <th>max</th>\n",
       "      <td>8000.000000</td>\n",
       "    </tr>\n",
       "  </tbody>\n",
       "</table>\n",
       "</div>"
      ],
      "text/plain": [
       "                 1\n",
       "count   792.000000\n",
       "mean    135.987836\n",
       "std     795.161049\n",
       "min       7.986673\n",
       "25%      40.518593\n",
       "50%      59.656417\n",
       "75%      74.563127\n",
       "max    8000.000000"
      ]
     },
     "execution_count": 174,
     "metadata": {},
     "output_type": "execute_result"
    }
   ],
   "source": [
    "df.dropna().describe()"
   ]
  },
  {
   "cell_type": "code",
   "execution_count": 171,
   "metadata": {},
   "outputs": [
    {
     "data": {
      "text/html": [
       "<div>\n",
       "<style scoped>\n",
       "    .dataframe tbody tr th:only-of-type {\n",
       "        vertical-align: middle;\n",
       "    }\n",
       "\n",
       "    .dataframe tbody tr th {\n",
       "        vertical-align: top;\n",
       "    }\n",
       "\n",
       "    .dataframe thead th {\n",
       "        text-align: right;\n",
       "    }\n",
       "</style>\n",
       "<table border=\"1\" class=\"dataframe\">\n",
       "  <thead>\n",
       "    <tr style=\"text-align: right;\">\n",
       "      <th></th>\n",
       "      <th>0</th>\n",
       "      <th>1</th>\n",
       "    </tr>\n",
       "  </thead>\n",
       "  <tbody>\n",
       "  </tbody>\n",
       "</table>\n",
       "</div>"
      ],
      "text/plain": [
       "Empty DataFrame\n",
       "Columns: [0, 1]\n",
       "Index: []"
      ]
     },
     "execution_count": 171,
     "metadata": {},
     "output_type": "execute_result"
    }
   ],
   "source": [
    "#find data with duplicated timestamp\n",
    "duplicate_timestamp = df[df[0].duplicated() == True][0].to_list()\n",
    "df[df[0].isin(duplicate_timestamp)]"
   ]
  },
  {
   "cell_type": "code",
   "execution_count": 172,
   "metadata": {},
   "outputs": [],
   "source": [
    "df = df.drop_duplicates([0])"
   ]
  },
  {
   "cell_type": "code",
   "execution_count": 173,
   "metadata": {},
   "outputs": [
    {
     "data": {
      "image/png": "[encoded data removed]",
      "text/plain": [
       "<Figure size 2520x720 with 1 Axes>"
      ]
     },
     "metadata": {
      "needs_background": "light"
     },
     "output_type": "display_data"
    }
   ],
   "source": [
    "#plot anomalies in power\n",
    "#plot asthetics\n",
    "plot_size = (35, 10)\n",
    "fig, ax = plt.subplots(figsize=plot_size)\n",
    "\n",
    "#plot value curve\n",
    "plt.plot(df[0], df[1], label=\"vibration\")\n",
    "    \n",
    "#plot asthetics\n",
    "plt.legend()\n",
    "plt.show(block=False)"
   ]
  },
  {
   "cell_type": "code",
   "execution_count": 176,
   "metadata": {},
   "outputs": [],
   "source": [
    "# train_w_datapoints = 500  # armstrong\n",
    "# train_w_datapoints = 2000 # numbertag\n",
    "# train_w_datapoints = 2000 # temperature\n",
    "# train_w_datapoints = 4300 # armstark\n",
    "# train_w_datapoints = 4500 # armstark-no-anomaly\n",
    "# train_w_datapoints = 3500 # cakebread36\n",
    "train_w_datapoints = 500 # generated-spike"
   ]
  },
  {
   "cell_type": "markdown",
   "metadata": {},
   "source": [
    "**input for deepad training module**"
   ]
  },
  {
   "cell_type": "code",
   "execution_count": 177,
   "metadata": {},
   "outputs": [
    {
     "data": {
      "text/html": [
       "<div>\n",
       "<style scoped>\n",
       "    .dataframe tbody tr th:only-of-type {\n",
       "        vertical-align: middle;\n",
       "    }\n",
       "\n",
       "    .dataframe tbody tr th {\n",
       "        vertical-align: top;\n",
       "    }\n",
       "\n",
       "    .dataframe thead th {\n",
       "        text-align: right;\n",
       "    }\n",
       "</style>\n",
       "<table border=\"1\" class=\"dataframe\">\n",
       "  <thead>\n",
       "    <tr style=\"text-align: right;\">\n",
       "      <th></th>\n",
       "      <th>0</th>\n",
       "      <th>1</th>\n",
       "    </tr>\n",
       "  </thead>\n",
       "  <tbody>\n",
       "    <tr>\n",
       "      <th>count</th>\n",
       "      <td>5.000000e+02</td>\n",
       "      <td>500.000000</td>\n",
       "    </tr>\n",
       "    <tr>\n",
       "      <th>mean</th>\n",
       "      <td>1.569624e+09</td>\n",
       "      <td>183.226157</td>\n",
       "    </tr>\n",
       "    <tr>\n",
       "      <th>std</th>\n",
       "      <td>5.225865e+04</td>\n",
       "      <td>997.971738</td>\n",
       "    </tr>\n",
       "    <tr>\n",
       "      <th>min</th>\n",
       "      <td>1.569521e+09</td>\n",
       "      <td>7.986673</td>\n",
       "    </tr>\n",
       "    <tr>\n",
       "      <th>25%</th>\n",
       "      <td>1.569585e+09</td>\n",
       "      <td>41.240110</td>\n",
       "    </tr>\n",
       "    <tr>\n",
       "      <th>50%</th>\n",
       "      <td>1.569625e+09</td>\n",
       "      <td>62.666153</td>\n",
       "    </tr>\n",
       "    <tr>\n",
       "      <th>75%</th>\n",
       "      <td>1.569668e+09</td>\n",
       "      <td>75.704007</td>\n",
       "    </tr>\n",
       "    <tr>\n",
       "      <th>max</th>\n",
       "      <td>1.569710e+09</td>\n",
       "      <td>8000.000000</td>\n",
       "    </tr>\n",
       "  </tbody>\n",
       "</table>\n",
       "</div>"
      ],
      "text/plain": [
       "                  0            1\n",
       "count  5.000000e+02   500.000000\n",
       "mean   1.569624e+09   183.226157\n",
       "std    5.225865e+04   997.971738\n",
       "min    1.569521e+09     7.986673\n",
       "25%    1.569585e+09    41.240110\n",
       "50%    1.569625e+09    62.666153\n",
       "75%    1.569668e+09    75.704007\n",
       "max    1.569710e+09  8000.000000"
      ]
     },
     "execution_count": 177,
     "metadata": {},
     "output_type": "execute_result"
    }
   ],
   "source": [
    "df.dropna()[:train_w_datapoints].describe()"
   ]
  },
  {
   "cell_type": "code",
   "execution_count": 178,
   "metadata": {},
   "outputs": [],
   "source": [
    "# input for training (Has to be atleast 500 datapoints)\n",
    "# filepath = '~/watson_iot/deepad/DeepAD/anomaly_detection/anomaly-flask/models/Armstrong-pump_power_anomaly/Armstrong-pump_power_anomaly.csv'\n",
    "# filepath = '~/watson_iot/deepad/DeepAD/anomaly_detection/anomaly-flask/models/Armstrong-pump_power_anomaly/Armstrong-pump_power_anomaly.csv #armstrong\n",
    "# filepath = '/Users/shraddha.singh@ibm.com/watson_iot/deepad/DeepAD/anomaly_detection/anomaly-flask/models/Numbertag/Numbertag.csv' #numbertag\n",
    "# filepath = '/Users/shraddha.singh@ibm.com/watson_iot/deepad/DeepAD/anomaly_detection/anomaly-flask/models/temperature/temperature.csv' #temperature\n",
    "# filepath = '/Users/shraddha.singh@ibm.com/watson_iot/deepad/DeepAD/anomaly_detection/anomaly-flask/models/armstark/armstark.csv' # armstark\n",
    "# filepath = '/Users/shraddha.singh@ibm.com/watson_iot/deepad/DeepAD/anomaly_detection/anomaly-flask/models/armstark-no-anomaly/armstark-no-anomaly.csv' # armstark-no-anomaly\n",
    "# filepath = '/Users/shraddha.singh@ibm.com/watson_iot/deepad/DeepAD/anomaly_detection/anomaly-flask/models/cakebread36/cakebread36.csv' # cakebread36\n",
    "filepath = '/Users/shraddha.singh@ibm.com/watson_iot/deepad/DeepAD/anomaly_detection/anomaly-flask/models/generated-spike-anomaly/generated-spike-anomaly.csv' # generated-spike-anomaly\n",
    "\n",
    "df.dropna()[:train_w_datapoints].to_csv(filepath, \n",
    "                   header=None, \n",
    "                   index=None,\n",
    "                   columns=[0, 1])"
   ]
  },
  {
   "cell_type": "markdown",
   "metadata": {},
   "source": [
    "**input for deepad prediction module**"
   ]
  },
  {
   "cell_type": "code",
   "execution_count": 204,
   "metadata": {},
   "outputs": [],
   "source": [
    "# input for testing prediction\n",
    "# filepath = '/Users/shraddha.singh@ibm.com/watson_iot/deepad/DeepAD/anomaly_detection/anomaly-flask/prediction/armstrong_1_input.csv' #armstrong TIMESTAMP POWER\n",
    "# filepath = '/Users/shraddha.singh@ibm.com/watson_iot/deepad/DeepAD/anomaly_detection/anomaly-flask/prediction_numbertag/numbertag_1_input.csv' #numbertag timestamp VALUE\n",
    "# filepath = '/Users/shraddha.singh@ibm.com/watson_iot/deepad/DeepAD/anomaly_detection/anomaly-flask/prediction_temperature/temperature_2_input.csv' #temperature 0 1\n",
    "# filepath = '/Users/shraddha.singh@ibm.com/watson_iot/deepad/DeepAD/anomaly_detection/anomaly-flask/prediction_armstark/armstark_2_input.csv' #armstark 0 1\n",
    "# filepath = '/Users/shraddha.singh@ibm.com/watson_iot/deepad/DeepAD/anomaly_detection/anomaly-flask/prediction_armstark-no-anomaly/armstark-no-anomaly_1_input.csv' #armstark 0 1\n",
    "# filepath = '/Users/shraddha.singh@ibm.com/watson_iot/deepad/DeepAD/anomaly_detection/anomaly-flask/prediction_cakebread36/cakebread36_1_input.csv' # cakebread36\n",
    "filepath = '/Users/shraddha.singh@ibm.com/watson_iot/deepad/DeepAD/anomaly_detection/anomaly-flask/prediction_generated-spike-anomaly/generated-spike-anomaly_2_input.csv' # generated-spike-anomaly\n",
    "\n",
    "df.dropna()[train_w_datapoints:].to_csv(filepath, \n",
    "                   header=None, \n",
    "                   index=None,\n",
    "                   columns=[0, 1])"
   ]
  },
  {
   "cell_type": "code",
   "execution_count": 188,
   "metadata": {},
   "outputs": [
    {
     "data": {
      "text/html": [
       "<div>\n",
       "<style scoped>\n",
       "    .dataframe tbody tr th:only-of-type {\n",
       "        vertical-align: middle;\n",
       "    }\n",
       "\n",
       "    .dataframe tbody tr th {\n",
       "        vertical-align: top;\n",
       "    }\n",
       "\n",
       "    .dataframe thead th {\n",
       "        text-align: right;\n",
       "    }\n",
       "</style>\n",
       "<table border=\"1\" class=\"dataframe\">\n",
       "  <thead>\n",
       "    <tr style=\"text-align: right;\">\n",
       "      <th></th>\n",
       "      <th>0</th>\n",
       "      <th>1</th>\n",
       "    </tr>\n",
       "  </thead>\n",
       "  <tbody>\n",
       "    <tr>\n",
       "      <th>count</th>\n",
       "      <td>2.920000e+02</td>\n",
       "      <td>292.000000</td>\n",
       "    </tr>\n",
       "    <tr>\n",
       "      <th>mean</th>\n",
       "      <td>1.569758e+09</td>\n",
       "      <td>55.100302</td>\n",
       "    </tr>\n",
       "    <tr>\n",
       "      <th>std</th>\n",
       "      <td>2.998148e+04</td>\n",
       "      <td>21.158235</td>\n",
       "    </tr>\n",
       "    <tr>\n",
       "      <th>min</th>\n",
       "      <td>1.569710e+09</td>\n",
       "      <td>7.986673</td>\n",
       "    </tr>\n",
       "    <tr>\n",
       "      <th>25%</th>\n",
       "      <td>1.569732e+09</td>\n",
       "      <td>38.354043</td>\n",
       "    </tr>\n",
       "    <tr>\n",
       "      <th>50%</th>\n",
       "      <td>1.569755e+09</td>\n",
       "      <td>59.656417</td>\n",
       "    </tr>\n",
       "    <tr>\n",
       "      <th>75%</th>\n",
       "      <td>1.569785e+09</td>\n",
       "      <td>74.563127</td>\n",
       "    </tr>\n",
       "    <tr>\n",
       "      <th>max</th>\n",
       "      <td>1.569810e+09</td>\n",
       "      <td>79.965888</td>\n",
       "    </tr>\n",
       "  </tbody>\n",
       "</table>\n",
       "</div>"
      ],
      "text/plain": [
       "                  0           1\n",
       "count  2.920000e+02  292.000000\n",
       "mean   1.569758e+09   55.100302\n",
       "std    2.998148e+04   21.158235\n",
       "min    1.569710e+09    7.986673\n",
       "25%    1.569732e+09   38.354043\n",
       "50%    1.569755e+09   59.656417\n",
       "75%    1.569785e+09   74.563127\n",
       "max    1.569810e+09   79.965888"
      ]
     },
     "execution_count": 188,
     "metadata": {},
     "output_type": "execute_result"
    }
   ],
   "source": [
    "df.dropna()[train_w_datapoints:].describe()"
   ]
  },
  {
   "cell_type": "markdown",
   "metadata": {},
   "source": [
    "**prediciton output from deepad prediction server**"
   ]
  },
  {
   "cell_type": "code",
   "execution_count": 205,
   "metadata": {},
   "outputs": [
    {
     "data": {
      "text/html": [
       "<div>\n",
       "<style scoped>\n",
       "    .dataframe tbody tr th:only-of-type {\n",
       "        vertical-align: middle;\n",
       "    }\n",
       "\n",
       "    .dataframe tbody tr th {\n",
       "        vertical-align: top;\n",
       "    }\n",
       "\n",
       "    .dataframe thead th {\n",
       "        text-align: right;\n",
       "    }\n",
       "</style>\n",
       "<table border=\"1\" class=\"dataframe\">\n",
       "  <thead>\n",
       "    <tr style=\"text-align: right;\">\n",
       "      <th></th>\n",
       "      <th>timestamp</th>\n",
       "      <th>value</th>\n",
       "      <th>error</th>\n",
       "      <th>is_anomaly</th>\n",
       "      <th>score</th>\n",
       "    </tr>\n",
       "  </thead>\n",
       "  <tbody>\n",
       "    <tr>\n",
       "      <th>count</th>\n",
       "      <td>7.920000e+02</td>\n",
       "      <td>792.000000</td>\n",
       "      <td>792.000000</td>\n",
       "      <td>792.000000</td>\n",
       "      <td>792.000000</td>\n",
       "    </tr>\n",
       "    <tr>\n",
       "      <th>mean</th>\n",
       "      <td>1.569674e+09</td>\n",
       "      <td>135.987836</td>\n",
       "      <td>-0.466311</td>\n",
       "      <td>0.008838</td>\n",
       "      <td>135.083704</td>\n",
       "    </tr>\n",
       "    <tr>\n",
       "      <th>std</th>\n",
       "      <td>7.902045e+04</td>\n",
       "      <td>795.161049</td>\n",
       "      <td>16.052063</td>\n",
       "      <td>0.093655</td>\n",
       "      <td>3883.291896</td>\n",
       "    </tr>\n",
       "    <tr>\n",
       "      <th>min</th>\n",
       "      <td>1.569521e+09</td>\n",
       "      <td>7.986673</td>\n",
       "      <td>-451.373375</td>\n",
       "      <td>0.000000</td>\n",
       "      <td>-451.373375</td>\n",
       "    </tr>\n",
       "    <tr>\n",
       "      <th>25%</th>\n",
       "      <td>1.569613e+09</td>\n",
       "      <td>40.518593</td>\n",
       "      <td>0.002575</td>\n",
       "      <td>0.000000</td>\n",
       "      <td>-3.523488</td>\n",
       "    </tr>\n",
       "    <tr>\n",
       "      <th>50%</th>\n",
       "      <td>1.569677e+09</td>\n",
       "      <td>59.656417</td>\n",
       "      <td>0.015523</td>\n",
       "      <td>0.000000</td>\n",
       "      <td>-3.054777</td>\n",
       "    </tr>\n",
       "    <tr>\n",
       "      <th>75%</th>\n",
       "      <td>1.569738e+09</td>\n",
       "      <td>74.563127</td>\n",
       "      <td>0.096616</td>\n",
       "      <td>0.000000</td>\n",
       "      <td>-2.609029</td>\n",
       "    </tr>\n",
       "    <tr>\n",
       "      <th>max</th>\n",
       "      <td>1.569810e+09</td>\n",
       "      <td>8000.000000</td>\n",
       "      <td>1.000000</td>\n",
       "      <td>1.000000</td>\n",
       "      <td>109280.257437</td>\n",
       "    </tr>\n",
       "  </tbody>\n",
       "</table>\n",
       "</div>"
      ],
      "text/plain": [
       "          timestamp        value       error  is_anomaly          score\n",
       "count  7.920000e+02   792.000000  792.000000  792.000000     792.000000\n",
       "mean   1.569674e+09   135.987836   -0.466311    0.008838     135.083704\n",
       "std    7.902045e+04   795.161049   16.052063    0.093655    3883.291896\n",
       "min    1.569521e+09     7.986673 -451.373375    0.000000    -451.373375\n",
       "25%    1.569613e+09    40.518593    0.002575    0.000000      -3.523488\n",
       "50%    1.569677e+09    59.656417    0.015523    0.000000      -3.054777\n",
       "75%    1.569738e+09    74.563127    0.096616    0.000000      -2.609029\n",
       "max    1.569810e+09  8000.000000    1.000000    1.000000  109280.257437"
      ]
     },
     "execution_count": 205,
     "metadata": {},
     "output_type": "execute_result"
    }
   ],
   "source": [
    "# read in server prediction output \n",
    "# filepath = '/Users/shraddha.singh@ibm.com/watson_iot/deepad/DeepAD/anomaly_detection/anomaly-flask/prediction/armstrong_1_input.csv_predictions' #armstrong\n",
    "# filepath = '/Users/shraddha.singh@ibm.com/watson_iot/deepad/DeepAD/anomaly_detection/anomaly-flask/prediction_numbertag/numbertag_1_input.csv_predictions' #numbertag\n",
    "# filepath = '/Users/shraddha.singh@ibm.com/watson_iot/deepad/DeepAD/anomaly_detection/anomaly-flask/prediction_temperature/temperature_2_input.csv_predictions' # temperature\n",
    "# filepath = '/Users/shraddha.singh@ibm.com/watson_iot/deepad/DeepAD/anomaly_detection/anomaly-flask/prediction_armstark/armstark_2_input.csv_predictions' #armstark\n",
    "# filepath = '/Users/shraddha.singh@ibm.com/watson_iot/deepad/DeepAD/anomaly_detection/anomaly-flask/prediction_armstark-no-anomaly/armstark-no-anomaly_1_input.csv_predictions' #armstark 0 1\n",
    "# filepath = '/Users/shraddha.singh@ibm.com/watson_iot/deepad/DeepAD/anomaly_detection/anomaly-flask/prediction_cakebread36/cakebread36_1_input.csv_predictions' # cakebread36\n",
    "filepath = '/Users/shraddha.singh@ibm.com/watson_iot/deepad/DeepAD/anomaly_detection/anomaly-flask/prediction_generated-spike-anomaly/generated-spike-anomaly_2_input.csv_predictions' # generated-spike-anomaly\n",
    "\n",
    "timestampcolumn = 'timestamp'\n",
    "df_anomaly = pd.read_csv(filepath, index_col=False)\n",
    "df_anomaly.describe()"
   ]
  },
  {
   "cell_type": "code",
   "execution_count": 206,
   "metadata": {},
   "outputs": [
    {
     "data": {
      "text/html": [
       "<div>\n",
       "<style scoped>\n",
       "    .dataframe tbody tr th:only-of-type {\n",
       "        vertical-align: middle;\n",
       "    }\n",
       "\n",
       "    .dataframe tbody tr th {\n",
       "        vertical-align: top;\n",
       "    }\n",
       "\n",
       "    .dataframe thead th {\n",
       "        text-align: right;\n",
       "    }\n",
       "</style>\n",
       "<table border=\"1\" class=\"dataframe\">\n",
       "  <thead>\n",
       "    <tr style=\"text-align: right;\">\n",
       "      <th></th>\n",
       "      <th>timestamp</th>\n",
       "      <th>value</th>\n",
       "      <th>error</th>\n",
       "      <th>is_anomaly</th>\n",
       "      <th>score</th>\n",
       "    </tr>\n",
       "  </thead>\n",
       "  <tbody>\n",
       "    <tr>\n",
       "      <th>0</th>\n",
       "      <td>1.569521e+09</td>\n",
       "      <td>79.333185</td>\n",
       "      <td>0.339987</td>\n",
       "      <td>0</td>\n",
       "      <td>-2.469021</td>\n",
       "    </tr>\n",
       "    <tr>\n",
       "      <th>1</th>\n",
       "      <td>1.569522e+09</td>\n",
       "      <td>77.907810</td>\n",
       "      <td>0.004811</td>\n",
       "      <td>0</td>\n",
       "      <td>-3.054526</td>\n",
       "    </tr>\n",
       "    <tr>\n",
       "      <th>2</th>\n",
       "      <td>1.569522e+09</td>\n",
       "      <td>75.704007</td>\n",
       "      <td>0.000582</td>\n",
       "      <td>0</td>\n",
       "      <td>-3.102303</td>\n",
       "    </tr>\n",
       "    <tr>\n",
       "      <th>3</th>\n",
       "      <td>1.569524e+09</td>\n",
       "      <td>72.743794</td>\n",
       "      <td>0.000725</td>\n",
       "      <td>0</td>\n",
       "      <td>-3.089014</td>\n",
       "    </tr>\n",
       "    <tr>\n",
       "      <th>4</th>\n",
       "      <td>1.569524e+09</td>\n",
       "      <td>69.056749</td>\n",
       "      <td>0.007152</td>\n",
       "      <td>0</td>\n",
       "      <td>-3.211181</td>\n",
       "    </tr>\n",
       "  </tbody>\n",
       "</table>\n",
       "</div>"
      ],
      "text/plain": [
       "      timestamp      value     error  is_anomaly     score\n",
       "0  1.569521e+09  79.333185  0.339987           0 -2.469021\n",
       "1  1.569522e+09  77.907810  0.004811           0 -3.054526\n",
       "2  1.569522e+09  75.704007  0.000582           0 -3.102303\n",
       "3  1.569524e+09  72.743794  0.000725           0 -3.089014\n",
       "4  1.569524e+09  69.056749  0.007152           0 -3.211181"
      ]
     },
     "execution_count": 206,
     "metadata": {},
     "output_type": "execute_result"
    }
   ],
   "source": [
    "df_anomaly.head()"
   ]
  },
  {
   "cell_type": "code",
   "execution_count": 207,
   "metadata": {},
   "outputs": [
    {
     "data": {
      "text/html": [
       "<div>\n",
       "<style scoped>\n",
       "    .dataframe tbody tr th:only-of-type {\n",
       "        vertical-align: middle;\n",
       "    }\n",
       "\n",
       "    .dataframe tbody tr th {\n",
       "        vertical-align: top;\n",
       "    }\n",
       "\n",
       "    .dataframe thead th {\n",
       "        text-align: right;\n",
       "    }\n",
       "</style>\n",
       "<table border=\"1\" class=\"dataframe\">\n",
       "  <thead>\n",
       "    <tr style=\"text-align: right;\">\n",
       "      <th></th>\n",
       "      <th>timestamp</th>\n",
       "      <th>value</th>\n",
       "      <th>error</th>\n",
       "      <th>is_anomaly</th>\n",
       "      <th>score</th>\n",
       "    </tr>\n",
       "  </thead>\n",
       "  <tbody>\n",
       "    <tr>\n",
       "      <th>345</th>\n",
       "      <td>1.569656e+09</td>\n",
       "      <td>7.986673</td>\n",
       "      <td>1.0</td>\n",
       "      <td>1</td>\n",
       "      <td>3.432949</td>\n",
       "    </tr>\n",
       "    <tr>\n",
       "      <th>391</th>\n",
       "      <td>1.569675e+09</td>\n",
       "      <td>8000.000000</td>\n",
       "      <td>1.0</td>\n",
       "      <td>1</td>\n",
       "      <td>109280.257437</td>\n",
       "    </tr>\n",
       "    <tr>\n",
       "      <th>392</th>\n",
       "      <td>1.569675e+09</td>\n",
       "      <td>8000.000000</td>\n",
       "      <td>1.0</td>\n",
       "      <td>1</td>\n",
       "      <td>556.980690</td>\n",
       "    </tr>\n",
       "    <tr>\n",
       "      <th>602</th>\n",
       "      <td>1.569741e+09</td>\n",
       "      <td>41.240110</td>\n",
       "      <td>1.0</td>\n",
       "      <td>1</td>\n",
       "      <td>1.116780</td>\n",
       "    </tr>\n",
       "    <tr>\n",
       "      <th>603</th>\n",
       "      <td>1.569741e+09</td>\n",
       "      <td>15.893546</td>\n",
       "      <td>1.0</td>\n",
       "      <td>1</td>\n",
       "      <td>6.823795</td>\n",
       "    </tr>\n",
       "    <tr>\n",
       "      <th>672</th>\n",
       "      <td>1.569770e+09</td>\n",
       "      <td>7.986673</td>\n",
       "      <td>1.0</td>\n",
       "      <td>1</td>\n",
       "      <td>18.886376</td>\n",
       "    </tr>\n",
       "    <tr>\n",
       "      <th>674</th>\n",
       "      <td>1.569770e+09</td>\n",
       "      <td>62.666153</td>\n",
       "      <td>1.0</td>\n",
       "      <td>1</td>\n",
       "      <td>0.178171</td>\n",
       "    </tr>\n",
       "  </tbody>\n",
       "</table>\n",
       "</div>"
      ],
      "text/plain": [
       "        timestamp        value  error  is_anomaly          score\n",
       "345  1.569656e+09     7.986673    1.0           1       3.432949\n",
       "391  1.569675e+09  8000.000000    1.0           1  109280.257437\n",
       "392  1.569675e+09  8000.000000    1.0           1     556.980690\n",
       "602  1.569741e+09    41.240110    1.0           1       1.116780\n",
       "603  1.569741e+09    15.893546    1.0           1       6.823795\n",
       "672  1.569770e+09     7.986673    1.0           1      18.886376\n",
       "674  1.569770e+09    62.666153    1.0           1       0.178171"
      ]
     },
     "execution_count": 207,
     "metadata": {},
     "output_type": "execute_result"
    }
   ],
   "source": [
    "df_anomaly[df_anomaly.is_anomaly == 1]"
   ]
  },
  {
   "cell_type": "code",
   "execution_count": 208,
   "metadata": {},
   "outputs": [],
   "source": [
    "# edit columns for pretty plots\n",
    "df_anomaly[timestampcolumn] = pd.to_datetime(df_anomaly[timestampcolumn], unit='s')\n",
    "df_anomaly['plot_anomaly'] = df_anomaly.is_anomaly.replace([0, 1],  [np.nan, df_anomaly.value.max()])"
   ]
  },
  {
   "cell_type": "code",
   "execution_count": 209,
   "metadata": {},
   "outputs": [
    {
     "data": {
      "image/png": "[encoded data removed]",
      "text/plain": [
       "<Figure size 2520x720 with 1 Axes>"
      ]
     },
     "metadata": {
      "needs_background": "light"
     },
     "output_type": "display_data"
    }
   ],
   "source": [
    "#plot anomalies in power\n",
    "#plot asthetics\n",
    "plot_size = (35, 10)\n",
    "fig, ax = plt.subplots(figsize=plot_size)\n",
    "\n",
    "#plot anomalies and Power value curve\n",
    "plt.scatter(df_anomaly.timestamp, df_anomaly['plot_anomaly'], label=\"anomaly\", c='red', s=250, alpha=0.45)\n",
    "plt.plot(df_anomaly.timestamp, df_anomaly['value'], label=\"value\")\n",
    "\n",
    "#vertical lines\n",
    "xpositions_anomaly = df_anomaly[df_anomaly.is_anomaly == 1]['timestamp'].to_list()\n",
    "for x in xpositions_anomaly:\n",
    "    plt.axvline(x=x, color='k', linestyle='--', linewidth=1)\n",
    "    \n",
    "#plot asthetics\n",
    "plt.legend()\n",
    "plt.show(block=False)"
   ]
  },
  {
   "cell_type": "code",
   "execution_count": 221,
   "metadata": {},
   "outputs": [],
   "source": [
    "test_speed_df = pd.DataFrame({'a': [1, 2, 3, 4]})\n",
    "test_speed_out = [1]"
   ]
  },
  {
   "cell_type": "code",
   "execution_count": 222,
   "metadata": {},
   "outputs": [
    {
     "name": "stdout",
     "output_type": "stream",
     "text": [
      "951 ns ± 27.1 ns per loop (mean ± std. dev. of 7 runs, 1000000 loops each)\n"
     ]
    }
   ],
   "source": [
    "%%timeit\n",
    "np.zeros((len(test_speed_out), ) + test_speed_df.shape)"
   ]
  },
  {
   "cell_type": "code",
   "execution_count": 223,
   "metadata": {},
   "outputs": [
    {
     "name": "stdout",
     "output_type": "stream",
     "text": [
      "978 ns ± 31.8 ns per loop (mean ± std. dev. of 7 runs, 1000000 loops each)\n"
     ]
    }
   ],
   "source": [
    "%%timeit\n",
    "score = []\n",
    "for out in test_speed_out:\n",
    "    score.append(np.zeros(test_speed_df.shape))"
   ]
  },
  {
   "cell_type": "code",
   "execution_count": null,
   "metadata": {},
   "outputs": [],
   "source": []
  }
 ],
 "metadata": {
  "kernelspec": {
   "display_name": "Python 3",
   "language": "python",
   "name": "python3"
  },
  "language_info": {
   "codemirror_mode": {
    "name": "ipython",
    "version": 3
   },
   "file_extension": ".py",
   "mimetype": "text/x-python",
   "name": "python",
   "nbconvert_exporter": "python",
   "pygments_lexer": "ipython3",
   "version": "3.7.7"
  }
 },
 "nbformat": 4,
 "nbformat_minor": 4
}
